{
 "cells": [
  {
   "cell_type": "code",
   "execution_count": 37,
   "metadata": {},
   "outputs": [],
   "source": [
    "import itertools\n",
    "\n",
    "def allPairSplits(lst):\n",
    "    '''     \n",
    "    Generate all sets of unique pairs from a list `lst`.\n",
    "    This is equivalent to all partitions of `lst` (considered as an indexed set) which have 2 elements\n",
    "    in each partition.\n",
    "    \n",
    "    Recall how we compute the total number of such partitions. Starting with a list [1, 2, 3, 4, 5, 6]\n",
    "    one takes off the first element, and chooses its pair [from any of the remaining 5]. For example, \n",
    "    we might choose our first pair to be (1, 4). Then, we take off the next element, 2, and choose \n",
    "    which element it is paired to (say, 3). So, there are 5 * 3 * 1 = 15 such partitions.\n",
    "    That sounds like a lot of nested loops (i.e. recursion), because 1 could pick 2, in which case our \n",
    "    next element is 3. But, if one abstracts \"what the next element is\", and instead just thinks of what \n",
    "    index it is in the remaining list, our choices are static and can be aided by the product function.\n",
    "    \n",
    "    From selfgatoatigrado: https://stackoverflow.com/a/13020502\n",
    "    '''\n",
    "    N = len(lst)\n",
    "    choice_indices = itertools.product(*[range(k) for k in range(N-1, 0, -2)])\n",
    "\n",
    "    for choice in choice_indices:\n",
    "        # calculate the list corresponding to the choices\n",
    "        tmp = lst[:]\n",
    "        result = []\n",
    "        for index in choice:\n",
    "            result.append((tmp.pop(0), tmp.pop(index)))\n",
    "        yield result  # use yield and then turn it into a list is faster than append"
   ]
  },
  {
   "cell_type": "code",
   "execution_count": 38,
   "metadata": {},
   "outputs": [
    {
     "name": "stdout",
     "output_type": "stream",
     "text": [
      "[[(0, 1), (2, 3)], [(0, 2), (1, 3)], [(0, 3), (1, 2)]]\n"
     ]
    }
   ],
   "source": [
    "aa = allPairSplits([0,1,2,3])\n",
    "print(list(aa))"
   ]
  },
  {
   "cell_type": "code",
   "execution_count": 15,
   "metadata": {},
   "outputs": [],
   "source": [
    "import numpy as np"
   ]
  },
  {
   "cell_type": "code",
   "execution_count": null,
   "metadata": {},
   "outputs": [],
   "source": []
  },
  {
   "cell_type": "code",
   "execution_count": 44,
   "metadata": {},
   "outputs": [
    {
     "name": "stdout",
     "output_type": "stream",
     "text": [
      "[0, 1, 2, 3]\n",
      "3\n",
      "[(0, 1), (2, 3)]\n",
      "[(0, 2), (1, 3)]\n",
      "1\n"
     ]
    }
   ],
   "source": [
    "dimensions = [2,2,1,1]\n",
    "removed_connections = [(0,1),(0,2)]\n",
    "\n",
    "num_nodes = len(dimensions)\n",
    "nodes = list(range(num_nodes))\n",
    "print(nodes)\n",
    "color_dict = {}\n",
    "# we store all dimensions/coloring the nodes can have in color_nodes.\n",
    "color_nodes = []\n",
    "# We distinguish between nodes but not between repeated nodes.\n",
    "# [(node1,color1),(node1,color2)] = [(node1,color2),(node1,color1)]\n",
    "for coloring in itertools.product(*[list(range(dimensions[nn])) for nn in nodes]):\n",
    "    color_nodes.append(sorted([[nodes[ii], coloring[ii]] for ii in range(len(nodes))]))\n",
    "\n",
    "all_uncolored_pms = list(allPairSplits(nodes))\n",
    "print(len(all_uncolored_pms))\n",
    "\n",
    "for removed_connection in removed_connections:\n",
    "    for ii, uncolored_pm in reversed(list(enumerate(all_uncolored_pms))):\n",
    "        if removed_connection in uncolored_pm:\n",
    "            del all_uncolored_pms[ii]\n",
    "\n",
    "def color_pm(pm, coloring):\n",
    "    '''\n",
    "    Given a pair of nodes, `pm`, and a coloring, `coloring`, color the nodes in the pair.\n",
    "\n",
    "    input: pm = [(node1, node2), (node3, node4)], coloring = [(node1, color1), (node2, color2), (node3, color3), (node4, color4)]\n",
    "\n",
    "    output: [(node1, node2, color1, color2), (node3, node4, color3, color4)]\n",
    "    '''\n",
    "    return [(edge[0], edge[1], coloring[edge[0]], coloring[edge[1]]) for edge in pm]\n",
    "\n",
    "\n",
    "state_catalog = {}\n",
    "for coloring in color_nodes:\n",
    "    state_catalog[tuple(coloring)] = [color_pm(pm, coloring) for pm in all_uncolored_pms]\n",
    "\n",
    "print(len(list(all_uncolored_pms)))\n"
   ]
  },
  {
   "cell_type": "code",
   "execution_count": 30,
   "metadata": {},
   "outputs": [
    {
     "name": "stdout",
     "output_type": "stream",
     "text": [
      "[1, 3]\n"
     ]
    }
   ],
   "source": [
    "aa = [1,2,3]\n",
    "aa.remove(2)\n",
    "print(aa)"
   ]
  }
 ],
 "metadata": {
  "kernelspec": {
   "display_name": "venv2",
   "language": "python",
   "name": "python3"
  },
  "language_info": {
   "codemirror_mode": {
    "name": "ipython",
    "version": 3
   },
   "file_extension": ".py",
   "mimetype": "text/x-python",
   "name": "python",
   "nbconvert_exporter": "python",
   "pygments_lexer": "ipython3",
   "version": "3.12.7"
  }
 },
 "nbformat": 4,
 "nbformat_minor": 2
}
