{
 "cells": [
  {
   "cell_type": "code",
   "execution_count": 75,
   "id": "88eeb029-c508-4bb5-9455-0ec1c09b3f1a",
   "metadata": {},
   "outputs": [],
   "source": [
    "import theseus as th\n",
    "import numpy as np"
   ]
  },
  {
   "cell_type": "code",
   "execution_count": 60,
   "id": "9326ce82-a775-4a04-bb92-aea69909dd41",
   "metadata": {},
   "outputs": [],
   "source": [
    "pdv =(5,3,8)\n",
    "\n",
    "def makeGHZ(pdv):\n",
    "    state = []\n",
    "    data, dim, verts = pdv\n",
    "    for ii in range(dim):\n",
    "        term = []\n",
    "        for jj in range(verts):\n",
    "            if jj<data:\n",
    "                term.append((jj,ii))\n",
    "            else:\n",
    "                term.append((jj,0))\n",
    "        state.append(term)\n",
    "    return state\n",
    "        \n",
    "ghz = makeGHZ(pdv)"
   ]
  },
  {
   "cell_type": "code",
   "execution_count": 61,
   "id": "f8e1f898-d18e-408b-abf7-0418679c1130",
   "metadata": {},
   "outputs": [
    {
     "data": {
      "text/plain": [
       "[[(0, 0), (1, 0), (2, 0), (3, 0), (4, 0), (5, 0), (6, 0), (7, 0)],\n",
       " [(0, 1), (1, 1), (2, 1), (3, 1), (4, 1), (5, 0), (6, 0), (7, 0)],\n",
       " [(0, 2), (1, 2), (2, 2), (3, 2), (4, 2), (5, 0), (6, 0), (7, 0)]]"
      ]
     },
     "execution_count": 61,
     "metadata": {},
     "output_type": "execute_result"
    }
   ],
   "source": [
    "ghz"
   ]
  },
  {
   "cell_type": "code",
   "execution_count": 62,
   "id": "9e3ab709-8e55-4091-9ded-d1d4fd190a06",
   "metadata": {},
   "outputs": [],
   "source": [
    "target = th.targetEquation([1]*pdv[1],ghz)"
   ]
  },
  {
   "cell_type": "code",
   "execution_count": 63,
   "id": "1279ddfb-8fb1-44e2-9e71-af9ac14c3ce3",
   "metadata": {},
   "outputs": [],
   "source": [
    "locdim = [pdv[1]]*pdv[0]+[1]*(pdv[2]-pdv[0])\n",
    "edge_list = th.buildAllEdges(locdim)"
   ]
  },
  {
   "cell_type": "code",
   "execution_count": 64,
   "id": "78aa637c-fd39-40df-9705-32f550845135",
   "metadata": {},
   "outputs": [],
   "source": [
    "pms = th.findEdgeCovers(edge_list,order = 0)"
   ]
  },
  {
   "cell_type": "code",
   "execution_count": 69,
   "id": "c20ed5a2-22e3-4a5c-bb85-039165cec3b5",
   "metadata": {},
   "outputs": [
    {
     "data": {
      "text/plain": [
       "[3, 3, 3, 3, 3, 1, 1, 1]"
      ]
     },
     "execution_count": 69,
     "metadata": {},
     "output_type": "execute_result"
    }
   ],
   "source": [
    "locdim"
   ]
  },
  {
   "cell_type": "code",
   "execution_count": 70,
   "id": "839c0e05-ee8f-46d0-b94f-88a9b51cd054",
   "metadata": {},
   "outputs": [
    {
     "data": {
      "text/plain": [
       "138"
      ]
     },
     "execution_count": 70,
     "metadata": {},
     "output_type": "execute_result"
    }
   ],
   "source": [
    "#number of edges\n",
    "len(edge_list)"
   ]
  },
  {
   "cell_type": "code",
   "execution_count": 88,
   "id": "cd8d58b5-5ee7-4370-ad76-64fbf721aa03",
   "metadata": {},
   "outputs": [
    {
     "data": {
      "text/plain": [
       "[(0, 5, 0, 0), (1, 6, 0, 0), (2, 7, 0, 0), (3, 4, 0, 1)]"
      ]
     },
     "execution_count": 88,
     "metadata": {},
     "output_type": "execute_result"
    }
   ],
   "source": [
    "pms[1]"
   ]
  },
  {
   "cell_type": "code",
   "execution_count": 87,
   "id": "bf070e78-fbfb-4d1d-aed3-8be720a62434",
   "metadata": {},
   "outputs": [
    {
     "data": {
      "text/plain": [
       "105"
      ]
     },
     "execution_count": 87,
     "metadata": {},
     "output_type": "execute_result"
    }
   ],
   "source": [
    "#perfect matchings of uncolored graph\n",
    "coloring = np.array(pms[0])[:,2:4].flatten()\n",
    "len([pm for pm in pms if np.array_equal(np.array(pm)[:,2:4].flatten(),coloring)])"
   ]
  },
  {
   "cell_type": "code",
   "execution_count": 93,
   "id": "a7d4c577-f892-47bd-bfc3-02635e865a50",
   "metadata": {},
   "outputs": [
    {
     "ename": "KeyboardInterrupt",
     "evalue": "",
     "output_type": "error",
     "traceback": [
      "\u001b[0;31m---------------------------------------------------------------------------\u001b[0m",
      "\u001b[0;31mKeyboardInterrupt\u001b[0m                         Traceback (most recent call last)",
      "\u001b[0;32m<ipython-input-93-aaf56abc3780>\u001b[0m in \u001b[0;36m<module>\u001b[0;34m\u001b[0m\n\u001b[0;32m----> 1\u001b[0;31m \u001b[0mth\u001b[0m\u001b[0;34m.\u001b[0m\u001b[0mallColorGraphs\u001b[0m\u001b[0;34m(\u001b[0m\u001b[0msum\u001b[0m\u001b[0;34m(\u001b[0m\u001b[0mghz\u001b[0m\u001b[0;34m,\u001b[0m \u001b[0;34m[\u001b[0m\u001b[0;34m]\u001b[0m\u001b[0;34m)\u001b[0m\u001b[0;34m)\u001b[0m\u001b[0;34m\u001b[0m\u001b[0;34m\u001b[0m\u001b[0m\n\u001b[0m",
      "\u001b[0;32m~/ownCloud/Theseus/theseus.py\u001b[0m in \u001b[0;36mallColorGraphs\u001b[0;34m(color_nodes, loops)\u001b[0m\n\u001b[1;32m    243\u001b[0m              [(0, 1, 0, 1), (0, 1, 1, 1)]]\n\u001b[1;32m    244\u001b[0m     '''\n\u001b[0;32m--> 245\u001b[0;31m     \u001b[0mcolor_graph\u001b[0m \u001b[0;34m=\u001b[0m \u001b[0mlist\u001b[0m\u001b[0;34m(\u001b[0m\u001b[0mallPairSplits\u001b[0m\u001b[0;34m(\u001b[0m\u001b[0msorted\u001b[0m\u001b[0;34m(\u001b[0m\u001b[0mlist\u001b[0m\u001b[0;34m(\u001b[0m\u001b[0mcolor_nodes\u001b[0m\u001b[0;34m)\u001b[0m\u001b[0;34m)\u001b[0m\u001b[0;34m)\u001b[0m\u001b[0;34m)\u001b[0m\u001b[0;34m\u001b[0m\u001b[0;34m\u001b[0m\u001b[0m\n\u001b[0m\u001b[1;32m    246\u001b[0m     \u001b[0;32mfor\u001b[0m \u001b[0mgraph\u001b[0m \u001b[0;32min\u001b[0m \u001b[0mcolor_graph\u001b[0m\u001b[0;34m:\u001b[0m \u001b[0mgraph\u001b[0m\u001b[0;34m.\u001b[0m\u001b[0msort\u001b[0m\u001b[0;34m(\u001b[0m\u001b[0;34m)\u001b[0m\u001b[0;34m\u001b[0m\u001b[0;34m\u001b[0m\u001b[0m\n\u001b[1;32m    247\u001b[0m     \u001b[0;31m# The following lines builds the edge (node1, node2, color1, color2).\u001b[0m\u001b[0;34m\u001b[0m\u001b[0;34m\u001b[0m\u001b[0;34m\u001b[0m\u001b[0m\n",
      "\u001b[0;32m~/ownCloud/Theseus/theseus.py\u001b[0m in \u001b[0;36mallPairSplits\u001b[0;34m(lst)\u001b[0m\n\u001b[1;32m     58\u001b[0m         \u001b[0mtmp\u001b[0m \u001b[0;34m=\u001b[0m \u001b[0mlst\u001b[0m\u001b[0;34m[\u001b[0m\u001b[0;34m:\u001b[0m\u001b[0;34m]\u001b[0m\u001b[0;34m\u001b[0m\u001b[0;34m\u001b[0m\u001b[0m\n\u001b[1;32m     59\u001b[0m         \u001b[0mresult\u001b[0m \u001b[0;34m=\u001b[0m \u001b[0;34m[\u001b[0m\u001b[0;34m]\u001b[0m\u001b[0;34m\u001b[0m\u001b[0;34m\u001b[0m\u001b[0m\n\u001b[0;32m---> 60\u001b[0;31m         \u001b[0;32mfor\u001b[0m \u001b[0mindex\u001b[0m \u001b[0;32min\u001b[0m \u001b[0mchoice\u001b[0m\u001b[0;34m:\u001b[0m\u001b[0;34m\u001b[0m\u001b[0;34m\u001b[0m\u001b[0m\n\u001b[0m\u001b[1;32m     61\u001b[0m             \u001b[0mresult\u001b[0m\u001b[0;34m.\u001b[0m\u001b[0mappend\u001b[0m\u001b[0;34m(\u001b[0m \u001b[0;34m(\u001b[0m\u001b[0mtmp\u001b[0m\u001b[0;34m.\u001b[0m\u001b[0mpop\u001b[0m\u001b[0;34m(\u001b[0m\u001b[0;36m0\u001b[0m\u001b[0;34m)\u001b[0m\u001b[0;34m,\u001b[0m \u001b[0mtmp\u001b[0m\u001b[0;34m.\u001b[0m\u001b[0mpop\u001b[0m\u001b[0;34m(\u001b[0m\u001b[0mindex\u001b[0m\u001b[0;34m)\u001b[0m\u001b[0;34m)\u001b[0m \u001b[0;34m)\u001b[0m\u001b[0;34m\u001b[0m\u001b[0;34m\u001b[0m\u001b[0m\n\u001b[1;32m     62\u001b[0m         \u001b[0;32myield\u001b[0m \u001b[0mresult\u001b[0m \u001b[0;31m# use yield and then turn it into a list is faster than append\u001b[0m\u001b[0;34m\u001b[0m\u001b[0;34m\u001b[0m\u001b[0m\n",
      "\u001b[0;31mKeyboardInterrupt\u001b[0m: "
     ]
    }
   ],
   "source": [
    "th.allColorGraphs(sum(ghz, []))"
   ]
  },
  {
   "cell_type": "code",
   "execution_count": 18,
   "id": "4c9e4b7a-61b7-4f7d-8444-48a43fd2388e",
   "metadata": {},
   "outputs": [],
   "source": [
    "norm = th.Norm.fromEdgeCovers(edge_list)"
   ]
  },
  {
   "cell_type": "code",
   "execution_count": 21,
   "id": "01dc0541-a947-4b05-a95e-95b415cff152",
   "metadata": {},
   "outputs": [],
   "source": [
    "simp_countrate = target/(1+norm)"
   ]
  },
  {
   "cell_type": "code",
   "execution_count": 24,
   "id": "b9d965cc-d05b-47b6-ab47-bc0f5b010910",
   "metadata": {
    "tags": []
   },
   "outputs": [
    {
     "data": {
      "text/plain": [
       "[]"
      ]
     },
     "execution_count": 24,
     "metadata": {},
     "output_type": "execute_result"
    }
   ],
   "source": [
    "a = []\n",
    "b = []\n",
    "a.append(1)\n",
    "b"
   ]
  },
  {
   "cell_type": "code",
   "execution_count": 25,
   "id": "555684e3-6e0d-421b-ac45-2f41396ea62c",
   "metadata": {},
   "outputs": [
    {
     "data": {
      "text/plain": [
       "[1]"
      ]
     },
     "execution_count": 25,
     "metadata": {},
     "output_type": "execute_result"
    }
   ],
   "source": [
    "a"
   ]
  },
  {
   "cell_type": "code",
   "execution_count": null,
   "id": "f8934de0-57c1-4987-9a7c-efaf82d35a61",
   "metadata": {},
   "outputs": [],
   "source": []
  }
 ],
 "metadata": {
  "kernelspec": {
   "display_name": "Python 3",
   "language": "python",
   "name": "python3"
  },
  "language_info": {
   "codemirror_mode": {
    "name": "ipython",
    "version": 3
   },
   "file_extension": ".py",
   "mimetype": "text/x-python",
   "name": "python",
   "nbconvert_exporter": "python",
   "pygments_lexer": "ipython3",
   "version": "3.8.8"
  }
 },
 "nbformat": 4,
 "nbformat_minor": 5
}
